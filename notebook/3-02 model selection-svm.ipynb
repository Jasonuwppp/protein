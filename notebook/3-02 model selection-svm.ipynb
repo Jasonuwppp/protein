{
 "cells": [
  {
   "cell_type": "code",
   "execution_count": 1,
   "metadata": {},
   "outputs": [],
   "source": [
    "import numpy as np\n",
    "import pandas as pd\n",
    "import xgboost as xgb\n",
    "from sklearn import svm\n",
    "from sklearn.metrics import accuracy_score\n",
    "#from sklearn.model_selection import train_test_split\n",
    "from sklearn.model_selection import GridSearchCV\n",
    "from catboost import CatBoostClassifier"
   ]
  },
  {
   "cell_type": "markdown",
   "metadata": {},
   "source": [
    "# svm tuning"
   ]
  },
  {
   "cell_type": "code",
   "execution_count": 2,
   "metadata": {},
   "outputs": [],
   "source": [
    "# load data\n",
    "train = pd.read_csv('../data/train_after_encode.csv')\n",
    "test = pd.read_csv('../data/test_after_encode.csv')\n",
    "protein_id = pd.read_csv('../data/protein_id.csv')\n",
    "# define X,y\n",
    "X_train = train.drop('y', axis=1)\n",
    "y_train = train['y']\n",
    "# create validation sets\n",
    "#X_train, X_val, y_train, y_val = train_test_split(train_X, train_y, test_size = 0.3)"
   ]
  },
  {
   "cell_type": "code",
   "execution_count": 3,
   "metadata": {},
   "outputs": [
    {
     "data": {
      "text/plain": [
       "(862, 537)"
      ]
     },
     "execution_count": 3,
     "metadata": {},
     "output_type": "execute_result"
    }
   ],
   "source": [
    "X_train.shape"
   ]
  },
  {
   "cell_type": "code",
   "execution_count": 4,
   "metadata": {},
   "outputs": [
    {
     "data": {
      "text/plain": [
       "(862,)"
      ]
     },
     "execution_count": 4,
     "metadata": {},
     "output_type": "execute_result"
    }
   ],
   "source": [
    "y_train.shape"
   ]
  },
  {
   "cell_type": "code",
   "execution_count": 5,
   "metadata": {},
   "outputs": [],
   "source": [
    "# cast the type to float64\n",
    "X_train = X_train.astype(np.float64)\n",
    "y_train = y_train.astype(np.float64)\n",
    "#X_val = X_val.astype(np.float64)\n",
    "#y_val = y_val.astype(np.float64)"
   ]
  },
  {
   "cell_type": "markdown",
   "metadata": {},
   "source": [
    "## linear kernel"
   ]
  },
  {
   "cell_type": "code",
   "execution_count": 6,
   "metadata": {},
   "outputs": [],
   "source": [
    "# parameter tuning\n",
    "params_linear = {'C':[2**-5,2**-4,2**-3, 2**-2, 2**-1,1,2, 2**2,2**3,2**4,2**5,2**6,2**7,2**8]}"
   ]
  },
  {
   "cell_type": "code",
   "execution_count": 7,
   "metadata": {},
   "outputs": [
    {
     "name": "stderr",
     "output_type": "stream",
     "text": [
      "/Users/jasonyin/opt/anaconda3/lib/python3.8/site-packages/sklearn/model_selection/_split.py:670: UserWarning: The least populated class in y has only 1 members, which is less than n_splits=10.\n",
      "  warnings.warn((\"The least populated class in y has only %d\"\n"
     ]
    },
    {
     "data": {
      "text/plain": [
       "GridSearchCV(cv=10, estimator=SVC(kernel='linear'),\n",
       "             param_grid={'C': [0.03125, 0.0625, 0.125, 0.25, 0.5, 1, 2, 4, 8,\n",
       "                               16, 32, 64, 128, 256]})"
      ]
     },
     "execution_count": 7,
     "metadata": {},
     "output_type": "execute_result"
    }
   ],
   "source": [
    "# create a classifier with c\n",
    "linear = svm.SVC(kernel='linear')\n",
    "# grid search \n",
    "lin_clf = GridSearchCV(linear,params_linear,cv=10)\n",
    "# train the classifier\n",
    "lin_clf.fit(X_train,y_train)"
   ]
  },
  {
   "cell_type": "code",
   "execution_count": 8,
   "metadata": {},
   "outputs": [
    {
     "data": {
      "text/plain": [
       "{'C': 0.5}"
      ]
     },
     "execution_count": 8,
     "metadata": {},
     "output_type": "execute_result"
    }
   ],
   "source": [
    "# best parameter\n",
    "lin_clf.best_params_"
   ]
  },
  {
   "cell_type": "code",
   "execution_count": 9,
   "metadata": {},
   "outputs": [],
   "source": [
    "# best predictor\n",
    "best_lin = lin_clf.best_estimator_\n",
    "#best_lin = svm.SVC(kernel='linear', C=180).fit(X_train,y_train)"
   ]
  },
  {
   "cell_type": "code",
   "execution_count": 10,
   "metadata": {},
   "outputs": [
    {
     "data": {
      "text/plain": [
       "0.6705960973001872"
      ]
     },
     "execution_count": 10,
     "metadata": {},
     "output_type": "execute_result"
    }
   ],
   "source": [
    "# accuracy score\n",
    "lin_clf.best_score_"
   ]
  },
  {
   "cell_type": "code",
   "execution_count": 11,
   "metadata": {},
   "outputs": [],
   "source": [
    "# save the linear kernel\n",
    "pd.to_pickle(lin_clf, '../best models/SVM_linear.pickle')"
   ]
  },
  {
   "cell_type": "markdown",
   "metadata": {},
   "source": [
    "## gaussian kernel"
   ]
  },
  {
   "cell_type": "code",
   "execution_count": 12,
   "metadata": {},
   "outputs": [],
   "source": [
    "# parameter tuning\n",
    "params_gau = {'C':[2**-5,2**-4,2**-3, 2**-2, 2**-1,1,2, 2**2,2**3,2**4,2**5,2**6,2**7,2**8],\n",
    "              'gamma':[2**-10,2**-8,2**-6, 2**-4, 2**-2,2**-1, 1, 2, 2**2, 2**3]\n",
    "             }"
   ]
  },
  {
   "cell_type": "code",
   "execution_count": 13,
   "metadata": {},
   "outputs": [
    {
     "name": "stderr",
     "output_type": "stream",
     "text": [
      "/Users/jasonyin/opt/anaconda3/lib/python3.8/site-packages/sklearn/model_selection/_split.py:670: UserWarning: The least populated class in y has only 1 members, which is less than n_splits=10.\n",
      "  warnings.warn((\"The least populated class in y has only %d\"\n"
     ]
    },
    {
     "data": {
      "text/plain": [
       "GridSearchCV(cv=10, estimator=SVC(),\n",
       "             param_grid={'C': [0.03125, 0.0625, 0.125, 0.25, 0.5, 1, 2, 4, 8,\n",
       "                               16, 32, 64, 128, 256],\n",
       "                         'gamma': [0.0009765625, 0.00390625, 0.015625, 0.0625,\n",
       "                                   0.25, 0.5, 1, 2, 4, 8]})"
      ]
     },
     "execution_count": 13,
     "metadata": {},
     "output_type": "execute_result"
    }
   ],
   "source": [
    "# create a classifier with c\n",
    "gaussian = svm.SVC(kernel='rbf')\n",
    "# grid search \n",
    "gau_clf = GridSearchCV(gaussian,params_gau,cv=10)\n",
    "# train the classifier\n",
    "gau_clf.fit(X_train,y_train)"
   ]
  },
  {
   "cell_type": "code",
   "execution_count": 14,
   "metadata": {},
   "outputs": [
    {
     "data": {
      "text/plain": [
       "0.6660384923817162"
      ]
     },
     "execution_count": 14,
     "metadata": {},
     "output_type": "execute_result"
    }
   ],
   "source": [
    "# accuracy score\n",
    "gau_clf.best_score_"
   ]
  },
  {
   "cell_type": "code",
   "execution_count": 15,
   "metadata": {},
   "outputs": [],
   "source": [
    "# best predictor\n",
    "best_gau = gau_clf.best_estimator_"
   ]
  },
  {
   "cell_type": "code",
   "execution_count": 16,
   "metadata": {},
   "outputs": [
    {
     "data": {
      "text/plain": [
       "{'C': 128, 'gamma': 0.0009765625}"
      ]
     },
     "execution_count": 16,
     "metadata": {},
     "output_type": "execute_result"
    }
   ],
   "source": [
    "# best parameters\n",
    "gau_clf.best_params_"
   ]
  },
  {
   "cell_type": "markdown",
   "metadata": {},
   "source": [
    "## poly kernel"
   ]
  },
  {
   "cell_type": "code",
   "execution_count": 17,
   "metadata": {},
   "outputs": [],
   "source": [
    "# parameter tuning\n",
    "params_poly = {'C':[2**-5,2**-4,2**-3, 2**-2, 2**-1,1,2, 2**2,2**3,2**4,2**5,2**6,2**7,2**8,2**9,2**10],\n",
    "               'degree':[1,2,3,4]}"
   ]
  },
  {
   "cell_type": "code",
   "execution_count": 18,
   "metadata": {},
   "outputs": [],
   "source": [
    "# fit poly model\n",
    "#poly = svm.SVC(kernel='poly', degree=1, C=180).fit(X_train,y_train)\n",
    "# poly accuracy on validation sets\n",
    "#accuracy_score(y_val, poly.predict(X_val))"
   ]
  },
  {
   "cell_type": "code",
   "execution_count": 19,
   "metadata": {},
   "outputs": [
    {
     "name": "stderr",
     "output_type": "stream",
     "text": [
      "/Users/jasonyin/opt/anaconda3/lib/python3.8/site-packages/sklearn/model_selection/_split.py:670: UserWarning: The least populated class in y has only 1 members, which is less than n_splits=10.\n",
      "  warnings.warn((\"The least populated class in y has only %d\"\n"
     ]
    },
    {
     "data": {
      "text/plain": [
       "GridSearchCV(cv=10, estimator=SVC(kernel='poly'),\n",
       "             param_grid={'C': [0.03125, 0.0625, 0.125, 0.25, 0.5, 1, 2, 4, 8,\n",
       "                               16, 32, 64, 128, 256, 512, 1024],\n",
       "                         'degree': [1, 2, 3, 4]})"
      ]
     },
     "execution_count": 19,
     "metadata": {},
     "output_type": "execute_result"
    }
   ],
   "source": [
    "# create a poly kernel\n",
    "poly = svm.SVC(kernel='poly')\n",
    "# gridsearchcv\n",
    "poly_clf = GridSearchCV(poly,params_poly,cv=10)\n",
    "# train the classifier\n",
    "poly_clf.fit(X_train,y_train)"
   ]
  },
  {
   "cell_type": "code",
   "execution_count": 20,
   "metadata": {},
   "outputs": [],
   "source": [
    "# best predictor\n",
    "best_poly = poly_clf.best_estimator_"
   ]
  },
  {
   "cell_type": "code",
   "execution_count": 21,
   "metadata": {},
   "outputs": [
    {
     "data": {
      "text/plain": [
       "{'C': 64, 'degree': 1}"
      ]
     },
     "execution_count": 21,
     "metadata": {},
     "output_type": "execute_result"
    }
   ],
   "source": [
    "# best parameters\n",
    "poly_clf.best_params_"
   ]
  },
  {
   "cell_type": "code",
   "execution_count": 22,
   "metadata": {},
   "outputs": [
    {
     "data": {
      "text/plain": [
       "0.6717455225875435"
      ]
     },
     "execution_count": 22,
     "metadata": {},
     "output_type": "execute_result"
    }
   ],
   "source": [
    "# accuracy score\n",
    "poly_clf.best_score_"
   ]
  },
  {
   "cell_type": "markdown",
   "metadata": {},
   "source": [
    "The following is related to submission"
   ]
  },
  {
   "cell_type": "code",
   "execution_count": 23,
   "metadata": {},
   "outputs": [],
   "source": [
    "# creating the result vector\n",
    "y_pred_test = best_gau.predict(test).astype(int)"
   ]
  },
  {
   "cell_type": "code",
   "execution_count": 24,
   "metadata": {},
   "outputs": [
    {
     "data": {
      "text/plain": [
       "array([ 5,  0,  0,  3,  0,  1,  0,  0,  5,  1,  1,  1,  0,  1,  0,  0,  1,\n",
       "        1,  0,  0,  0,  3,  0,  0,  1,  0,  1,  0,  1,  0,  0,  0,  2,  0,\n",
       "        0,  1,  2,  0, 10,  1,  0,  0,  0,  0,  0,  1,  1,  7,  1,  0,  7,\n",
       "        0,  5,  0,  1,  0,  1,  4,  1,  1,  1,  0,  0,  3,  1,  1,  1,  5,\n",
       "        0,  1,  0,  5,  0,  1,  0,  3,  1,  1,  0,  0,  3,  0,  1,  0,  0,\n",
       "        0,  2,  0,  3,  2,  0,  3,  5,  0,  1,  3,  1,  3,  3,  1,  0,  0,\n",
       "        1,  0,  3,  0,  4,  0,  1,  1,  6,  0,  3,  4,  0,  0,  1,  0,  0,\n",
       "        0,  0,  0,  1,  0,  0,  0,  0,  1,  0,  1,  0,  1,  0,  5,  4,  1,\n",
       "        0,  2,  1,  1,  0,  8,  0,  0,  2,  8,  1,  3,  1,  1,  1,  1,  1,\n",
       "        2,  0,  1,  1,  0,  0,  0,  0,  1,  0,  1,  0,  0,  0,  6,  0,  0,\n",
       "        3,  0,  5,  3,  6,  0,  1,  3,  0,  1,  0,  1,  4,  1,  0,  3,  0,\n",
       "        1,  0,  6,  0,  0,  0,  1,  4,  3,  1,  0,  7,  2,  1,  0,  2,  0,\n",
       "        2,  0,  0,  1,  3,  1,  0,  0,  1,  0,  6,  0,  5,  0,  0,  0,  1,\n",
       "        7,  1,  1,  8,  1,  8,  0,  3,  0,  0,  5,  1,  0,  0,  0,  0,  0,\n",
       "        5,  6,  1,  1,  1,  0,  0,  0,  1,  1,  0,  5,  0,  0,  0,  1,  3,\n",
       "        4,  0,  1,  0,  1,  0,  0,  0,  0,  2,  1,  1,  0,  0,  0,  1,  0,\n",
       "        1,  1,  0,  0,  0,  3,  0,  0,  0,  0,  0,  0,  0,  0,  0,  0,  0,\n",
       "        1,  2,  1,  1,  1,  1,  0,  0,  1,  6,  1,  1,  3,  5,  0,  1,  0,\n",
       "        8,  5,  1,  6,  0,  0,  1,  0,  1,  8,  2,  0,  1,  0,  1,  0,  0,\n",
       "        5,  1,  1,  0,  1,  1,  1,  1,  0,  1,  1,  0,  0,  0,  1,  0,  1,\n",
       "        0,  0,  4,  1,  1,  0,  1,  0,  1,  1,  1,  1,  0,  0,  1,  1,  1,\n",
       "        0,  1,  1,  3,  3,  0,  1,  1,  0,  8,  0,  0,  0,  0,  1,  1,  0,\n",
       "        0,  0,  3,  1,  1,  0,  0])"
      ]
     },
     "execution_count": 24,
     "metadata": {},
     "output_type": "execute_result"
    }
   ],
   "source": [
    "y_pred_test"
   ]
  },
  {
   "cell_type": "code",
   "execution_count": 25,
   "metadata": {},
   "outputs": [],
   "source": [
    "# create result\n",
    "res = {'key':protein_id['0'], 'label':y_pred_test}\n",
    "res = pd.DataFrame(res)\n",
    "# set id to be index\n",
    "res = res.set_index('key')\n",
    "# sort by index\n",
    "res = res.sort_index()"
   ]
  },
  {
   "cell_type": "code",
   "execution_count": 26,
   "metadata": {},
   "outputs": [
    {
     "data": {
      "text/html": [
       "<div>\n",
       "<style scoped>\n",
       "    .dataframe tbody tr th:only-of-type {\n",
       "        vertical-align: middle;\n",
       "    }\n",
       "\n",
       "    .dataframe tbody tr th {\n",
       "        vertical-align: top;\n",
       "    }\n",
       "\n",
       "    .dataframe thead th {\n",
       "        text-align: right;\n",
       "    }\n",
       "</style>\n",
       "<table border=\"1\" class=\"dataframe\">\n",
       "  <thead>\n",
       "    <tr style=\"text-align: right;\">\n",
       "      <th></th>\n",
       "      <th>label</th>\n",
       "    </tr>\n",
       "    <tr>\n",
       "      <th>key</th>\n",
       "      <th></th>\n",
       "    </tr>\n",
       "  </thead>\n",
       "  <tbody>\n",
       "    <tr>\n",
       "      <th>P234062</th>\n",
       "      <td>2</td>\n",
       "    </tr>\n",
       "    <tr>\n",
       "      <th>P234081</th>\n",
       "      <td>1</td>\n",
       "    </tr>\n",
       "    <tr>\n",
       "      <th>P234086</th>\n",
       "      <td>2</td>\n",
       "    </tr>\n",
       "    <tr>\n",
       "      <th>P234087</th>\n",
       "      <td>0</td>\n",
       "    </tr>\n",
       "    <tr>\n",
       "      <th>P234094</th>\n",
       "      <td>0</td>\n",
       "    </tr>\n",
       "    <tr>\n",
       "      <th>...</th>\n",
       "      <td>...</td>\n",
       "    </tr>\n",
       "    <tr>\n",
       "      <th>P240380</th>\n",
       "      <td>0</td>\n",
       "    </tr>\n",
       "    <tr>\n",
       "      <th>P240407</th>\n",
       "      <td>2</td>\n",
       "    </tr>\n",
       "    <tr>\n",
       "      <th>P240440</th>\n",
       "      <td>1</td>\n",
       "    </tr>\n",
       "    <tr>\n",
       "      <th>P240462</th>\n",
       "      <td>1</td>\n",
       "    </tr>\n",
       "    <tr>\n",
       "      <th>P240492</th>\n",
       "      <td>1</td>\n",
       "    </tr>\n",
       "  </tbody>\n",
       "</table>\n",
       "<p>381 rows × 1 columns</p>\n",
       "</div>"
      ],
      "text/plain": [
       "         label\n",
       "key           \n",
       "P234062      2\n",
       "P234081      1\n",
       "P234086      2\n",
       "P234087      0\n",
       "P234094      0\n",
       "...        ...\n",
       "P240380      0\n",
       "P240407      2\n",
       "P240440      1\n",
       "P240462      1\n",
       "P240492      1\n",
       "\n",
       "[381 rows x 1 columns]"
      ]
     },
     "execution_count": 26,
     "metadata": {},
     "output_type": "execute_result"
    }
   ],
   "source": [
    "res"
   ]
  },
  {
   "cell_type": "code",
   "execution_count": 27,
   "metadata": {},
   "outputs": [],
   "source": [
    "res.to_csv('../result/submission_svm.csv')"
   ]
  },
  {
   "cell_type": "code",
   "execution_count": null,
   "metadata": {},
   "outputs": [],
   "source": []
  }
 ],
 "metadata": {
  "kernelspec": {
   "display_name": "Python 3",
   "language": "python",
   "name": "python3"
  },
  "language_info": {
   "codemirror_mode": {
    "name": "ipython",
    "version": 3
   },
   "file_extension": ".py",
   "mimetype": "text/x-python",
   "name": "python",
   "nbconvert_exporter": "python",
   "pygments_lexer": "ipython3",
   "version": "3.8.5"
  }
 },
 "nbformat": 4,
 "nbformat_minor": 4
}
