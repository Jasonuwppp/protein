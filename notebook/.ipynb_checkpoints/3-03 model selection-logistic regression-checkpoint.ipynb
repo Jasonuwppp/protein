{
 "cells": [
  {
   "cell_type": "code",
   "execution_count": 67,
   "metadata": {},
   "outputs": [],
   "source": [
    "import pandas as pd\n",
    "import numpy as np\n",
    "from sklearn import svm\n",
    "from sklearn.linear_model import LogisticRegression\n",
    "from sklearn.metrics import accuracy_score\n",
    "from sklearn.model_selection import train_test_split\n",
    "from sklearn.model_selection import GridSearchCV"
   ]
  },
  {
   "cell_type": "code",
   "execution_count": 68,
   "metadata": {},
   "outputs": [],
   "source": [
    "# load data\n",
    "train = pd.read_csv('../data/train_after_encode.csv')\n",
    "test = pd.read_csv('../data/test_after_encode.csv')\n",
    "protein_id = pd.read_csv('../data/protein_id.csv')\n",
    "# define X,y\n",
    "X_train = train.drop('y', axis=1)\n",
    "y_train = train['y']\n",
    "# create validation sets\n",
    "X_train, X_val, y_train, y_val = train_test_split(train_X, train_y, test_size = 0.3)"
   ]
  },
  {
   "cell_type": "markdown",
   "metadata": {},
   "source": [
    "# one vs rest"
   ]
  },
  {
   "cell_type": "markdown",
   "metadata": {},
   "source": [
    "## attempt 1: raw X_train"
   ]
  },
  {
   "cell_type": "code",
   "execution_count": 6,
   "metadata": {},
   "outputs": [],
   "source": [
    "params = {\n",
    "    'solver':['newton-cg', 'lbfgs', 'liblinear', 'sag', 'saga'],\n",
    "    'penalty':['None','l1','l2','elasticnet'],\n",
    "    'C':[100,10,1,0.1,0.01,0.001],\n",
    "    'l1_ratio':[0,0.2,0.4,0.6,0.8,1]\n",
    "}"
   ]
  },
  {
   "cell_type": "code",
   "execution_count": 112,
   "metadata": {},
   "outputs": [],
   "source": [
    "# define model\n",
    "ovr = LogisticRegression(multi_class='ovr')\n",
    "# gridsearch\n",
    "clfs = GridSearchCV(ovr, params, cv=10)\n",
    "# fit model\n",
    "clfs.fit(X_train, y_train)"
   ]
  },
  {
   "cell_type": "code",
   "execution_count": 135,
   "metadata": {},
   "outputs": [
    {
     "data": {
      "text/plain": [
       "0.7018577920342154"
      ]
     },
     "execution_count": 135,
     "metadata": {},
     "output_type": "execute_result"
    }
   ],
   "source": [
    "#best score\n",
    "clfs.best_score_"
   ]
  },
  {
   "cell_type": "code",
   "execution_count": 136,
   "metadata": {},
   "outputs": [
    {
     "data": {
      "text/plain": [
       "{'C': 10, 'l1_ratio': 0, 'penalty': 'l2', 'solver': 'lbfgs'}"
      ]
     },
     "execution_count": 136,
     "metadata": {},
     "output_type": "execute_result"
    }
   ],
   "source": [
    "#best parameter\n",
    "clfs.best_params_"
   ]
  },
  {
   "cell_type": "code",
   "execution_count": 137,
   "metadata": {},
   "outputs": [],
   "source": [
    "#best estimator\n",
    "best_ovr = clfs.best_estimator_"
   ]
  },
  {
   "cell_type": "code",
   "execution_count": 140,
   "metadata": {},
   "outputs": [],
   "source": [
    "# save the best model\n",
    "pd.to_pickle(best_ovr, '../best models/LR.pickle')"
   ]
  },
  {
   "cell_type": "markdown",
   "metadata": {},
   "source": [
    "## section 2: consider feature importance"
   ]
  },
  {
   "cell_type": "code",
   "execution_count": 87,
   "metadata": {},
   "outputs": [],
   "source": [
    "# save the coefficient of the best model\n",
    "#best_clf_coef_t = pd.DataFrame(best_ovr.coef_)"
   ]
  },
  {
   "cell_type": "code",
   "execution_count": 90,
   "metadata": {},
   "outputs": [
    {
     "data": {
      "text/plain": [
       "0      0.493490\n",
       "1      0.000000\n",
       "2      0.000000\n",
       "3      0.265601\n",
       "4     -1.311055\n",
       "         ...   \n",
       "532   -0.428684\n",
       "533   -0.839252\n",
       "534    0.155636\n",
       "535   -0.008009\n",
       "536   -1.127341\n",
       "Name: 0, Length: 537, dtype: float64"
      ]
     },
     "execution_count": 90,
     "metadata": {},
     "output_type": "execute_result"
    }
   ],
   "source": [
    "# intepretation: the '0' column is the feature importance contributing to outcome 0, and so on\n",
    "#best_clf_coef = best_clf_coef_t.T"
   ]
  },
  {
   "cell_type": "code",
   "execution_count": 105,
   "metadata": {},
   "outputs": [],
   "source": [
    "# # set index:\n",
    "# # indices of X_train\n",
    "# X_train_indices = X_train.columns\n",
    "# best_clf_coef['index'] = X_train_indices\n",
    "# # set index\n",
    "# best_clf_coef.set_index('index')"
   ]
  },
  {
   "cell_type": "code",
   "execution_count": 102,
   "metadata": {},
   "outputs": [],
   "source": [
    "# # save feature importance\n",
    "# best_clf_coef.to_csv('logistic_reg_feature_importance.csv')"
   ]
  },
  {
   "cell_type": "code",
   "execution_count": 111,
   "metadata": {},
   "outputs": [
    {
     "data": {
      "text/html": [
       "<div>\n",
       "<style scoped>\n",
       "    .dataframe tbody tr th:only-of-type {\n",
       "        vertical-align: middle;\n",
       "    }\n",
       "\n",
       "    .dataframe tbody tr th {\n",
       "        vertical-align: top;\n",
       "    }\n",
       "\n",
       "    .dataframe thead th {\n",
       "        text-align: right;\n",
       "    }\n",
       "</style>\n",
       "<table border=\"1\" class=\"dataframe\">\n",
       "  <thead>\n",
       "    <tr style=\"text-align: right;\">\n",
       "      <th></th>\n",
       "      <th>0</th>\n",
       "      <th>1</th>\n",
       "      <th>2</th>\n",
       "      <th>3</th>\n",
       "      <th>4</th>\n",
       "      <th>5</th>\n",
       "      <th>6</th>\n",
       "      <th>7</th>\n",
       "      <th>8</th>\n",
       "      <th>9</th>\n",
       "      <th>10</th>\n",
       "      <th>11</th>\n",
       "      <th>12</th>\n",
       "      <th>13</th>\n",
       "    </tr>\n",
       "    <tr>\n",
       "      <th>index</th>\n",
       "      <th></th>\n",
       "      <th></th>\n",
       "      <th></th>\n",
       "      <th></th>\n",
       "      <th></th>\n",
       "      <th></th>\n",
       "      <th></th>\n",
       "      <th></th>\n",
       "      <th></th>\n",
       "      <th></th>\n",
       "      <th></th>\n",
       "      <th></th>\n",
       "      <th></th>\n",
       "      <th></th>\n",
       "    </tr>\n",
       "  </thead>\n",
       "  <tbody>\n",
       "    <tr>\n",
       "      <th>1</th>\n",
       "      <td>0.493490</td>\n",
       "      <td>-0.208556</td>\n",
       "      <td>-0.775681</td>\n",
       "      <td>0.653828</td>\n",
       "      <td>-0.462872</td>\n",
       "      <td>0.392743</td>\n",
       "      <td>-1.411365</td>\n",
       "      <td>-1.452972e+00</td>\n",
       "      <td>0.362914</td>\n",
       "      <td>1.192880e-02</td>\n",
       "      <td>-1.034955e+00</td>\n",
       "      <td>-0.905222</td>\n",
       "      <td>-7.495101e-01</td>\n",
       "      <td>-6.238662e-01</td>\n",
       "    </tr>\n",
       "    <tr>\n",
       "      <th>2</th>\n",
       "      <td>0.000000</td>\n",
       "      <td>0.000000</td>\n",
       "      <td>0.000000</td>\n",
       "      <td>0.000000</td>\n",
       "      <td>0.000000</td>\n",
       "      <td>0.000000</td>\n",
       "      <td>0.000000</td>\n",
       "      <td>0.000000e+00</td>\n",
       "      <td>0.000000</td>\n",
       "      <td>0.000000e+00</td>\n",
       "      <td>0.000000e+00</td>\n",
       "      <td>0.000000</td>\n",
       "      <td>0.000000e+00</td>\n",
       "      <td>0.000000e+00</td>\n",
       "    </tr>\n",
       "    <tr>\n",
       "      <th>4</th>\n",
       "      <td>0.000000</td>\n",
       "      <td>0.000000</td>\n",
       "      <td>0.000000</td>\n",
       "      <td>0.000000</td>\n",
       "      <td>0.000000</td>\n",
       "      <td>0.000000</td>\n",
       "      <td>0.000000</td>\n",
       "      <td>0.000000e+00</td>\n",
       "      <td>0.000000</td>\n",
       "      <td>0.000000e+00</td>\n",
       "      <td>0.000000e+00</td>\n",
       "      <td>0.000000</td>\n",
       "      <td>0.000000e+00</td>\n",
       "      <td>0.000000e+00</td>\n",
       "    </tr>\n",
       "    <tr>\n",
       "      <th>5</th>\n",
       "      <td>0.265601</td>\n",
       "      <td>-0.075891</td>\n",
       "      <td>-0.785881</td>\n",
       "      <td>0.467792</td>\n",
       "      <td>-0.641171</td>\n",
       "      <td>-2.095073</td>\n",
       "      <td>-1.004156</td>\n",
       "      <td>2.111834e+00</td>\n",
       "      <td>-0.657020</td>\n",
       "      <td>4.971688e-01</td>\n",
       "      <td>-2.298225e-01</td>\n",
       "      <td>-0.210855</td>\n",
       "      <td>-1.385206e-01</td>\n",
       "      <td>-4.412683e-01</td>\n",
       "    </tr>\n",
       "    <tr>\n",
       "      <th>6</th>\n",
       "      <td>-1.311055</td>\n",
       "      <td>1.190044</td>\n",
       "      <td>-0.084539</td>\n",
       "      <td>-0.282648</td>\n",
       "      <td>-0.008957</td>\n",
       "      <td>-0.001383</td>\n",
       "      <td>-0.000268</td>\n",
       "      <td>-3.683999e-07</td>\n",
       "      <td>-0.000202</td>\n",
       "      <td>-1.316757e-04</td>\n",
       "      <td>-2.519637e-03</td>\n",
       "      <td>-0.001110</td>\n",
       "      <td>-2.260507e-05</td>\n",
       "      <td>-1.140655e-05</td>\n",
       "    </tr>\n",
       "    <tr>\n",
       "      <th>...</th>\n",
       "      <td>...</td>\n",
       "      <td>...</td>\n",
       "      <td>...</td>\n",
       "      <td>...</td>\n",
       "      <td>...</td>\n",
       "      <td>...</td>\n",
       "      <td>...</td>\n",
       "      <td>...</td>\n",
       "      <td>...</td>\n",
       "      <td>...</td>\n",
       "      <td>...</td>\n",
       "      <td>...</td>\n",
       "      <td>...</td>\n",
       "      <td>...</td>\n",
       "    </tr>\n",
       "    <tr>\n",
       "      <th>2156</th>\n",
       "      <td>-0.428684</td>\n",
       "      <td>-0.189888</td>\n",
       "      <td>-0.003814</td>\n",
       "      <td>0.708720</td>\n",
       "      <td>-0.052409</td>\n",
       "      <td>-0.001954</td>\n",
       "      <td>-0.000280</td>\n",
       "      <td>-8.155174e-04</td>\n",
       "      <td>0.000345</td>\n",
       "      <td>-9.617542e-04</td>\n",
       "      <td>-6.059177e-03</td>\n",
       "      <td>-0.000084</td>\n",
       "      <td>-1.286416e-04</td>\n",
       "      <td>-8.020559e-04</td>\n",
       "    </tr>\n",
       "    <tr>\n",
       "      <th>2157</th>\n",
       "      <td>-0.839252</td>\n",
       "      <td>1.170903</td>\n",
       "      <td>-0.000197</td>\n",
       "      <td>-0.000188</td>\n",
       "      <td>-0.233157</td>\n",
       "      <td>-0.000057</td>\n",
       "      <td>-0.000082</td>\n",
       "      <td>-7.341154e-07</td>\n",
       "      <td>-0.000003</td>\n",
       "      <td>-8.714626e-07</td>\n",
       "      <td>4.886900e-07</td>\n",
       "      <td>0.000001</td>\n",
       "      <td>1.449317e-07</td>\n",
       "      <td>-3.741966e-07</td>\n",
       "    </tr>\n",
       "    <tr>\n",
       "      <th>2163</th>\n",
       "      <td>0.155636</td>\n",
       "      <td>-0.126616</td>\n",
       "      <td>-0.190837</td>\n",
       "      <td>-0.015470</td>\n",
       "      <td>-0.001869</td>\n",
       "      <td>-0.007866</td>\n",
       "      <td>-0.000103</td>\n",
       "      <td>4.915722e-07</td>\n",
       "      <td>-0.059973</td>\n",
       "      <td>-1.923618e-02</td>\n",
       "      <td>-2.284416e-03</td>\n",
       "      <td>-0.003865</td>\n",
       "      <td>-9.773096e-05</td>\n",
       "      <td>-7.684161e-05</td>\n",
       "    </tr>\n",
       "    <tr>\n",
       "      <th>2169</th>\n",
       "      <td>-0.008009</td>\n",
       "      <td>-0.046761</td>\n",
       "      <td>-0.000080</td>\n",
       "      <td>0.105646</td>\n",
       "      <td>-0.003297</td>\n",
       "      <td>-0.000011</td>\n",
       "      <td>-0.164721</td>\n",
       "      <td>7.255349e-08</td>\n",
       "      <td>-0.002513</td>\n",
       "      <td>-5.952695e-05</td>\n",
       "      <td>-2.567012e-06</td>\n",
       "      <td>0.000001</td>\n",
       "      <td>2.084624e-07</td>\n",
       "      <td>3.008105e-07</td>\n",
       "    </tr>\n",
       "    <tr>\n",
       "      <th>2173</th>\n",
       "      <td>-1.127341</td>\n",
       "      <td>-0.500623</td>\n",
       "      <td>-0.024762</td>\n",
       "      <td>1.327445</td>\n",
       "      <td>-0.066184</td>\n",
       "      <td>-0.035436</td>\n",
       "      <td>-0.010141</td>\n",
       "      <td>-3.914070e-04</td>\n",
       "      <td>-0.010506</td>\n",
       "      <td>-6.675456e-03</td>\n",
       "      <td>-3.362144e-03</td>\n",
       "      <td>-0.000234</td>\n",
       "      <td>-4.633348e-04</td>\n",
       "      <td>-6.685686e-05</td>\n",
       "    </tr>\n",
       "  </tbody>\n",
       "</table>\n",
       "<p>537 rows × 14 columns</p>\n",
       "</div>"
      ],
      "text/plain": [
       "              0         1         2         3         4         5         6  \\\n",
       "index                                                                         \n",
       "1      0.493490 -0.208556 -0.775681  0.653828 -0.462872  0.392743 -1.411365   \n",
       "2      0.000000  0.000000  0.000000  0.000000  0.000000  0.000000  0.000000   \n",
       "4      0.000000  0.000000  0.000000  0.000000  0.000000  0.000000  0.000000   \n",
       "5      0.265601 -0.075891 -0.785881  0.467792 -0.641171 -2.095073 -1.004156   \n",
       "6     -1.311055  1.190044 -0.084539 -0.282648 -0.008957 -0.001383 -0.000268   \n",
       "...         ...       ...       ...       ...       ...       ...       ...   \n",
       "2156  -0.428684 -0.189888 -0.003814  0.708720 -0.052409 -0.001954 -0.000280   \n",
       "2157  -0.839252  1.170903 -0.000197 -0.000188 -0.233157 -0.000057 -0.000082   \n",
       "2163   0.155636 -0.126616 -0.190837 -0.015470 -0.001869 -0.007866 -0.000103   \n",
       "2169  -0.008009 -0.046761 -0.000080  0.105646 -0.003297 -0.000011 -0.164721   \n",
       "2173  -1.127341 -0.500623 -0.024762  1.327445 -0.066184 -0.035436 -0.010141   \n",
       "\n",
       "                  7         8             9            10        11  \\\n",
       "index                                                                 \n",
       "1     -1.452972e+00  0.362914  1.192880e-02 -1.034955e+00 -0.905222   \n",
       "2      0.000000e+00  0.000000  0.000000e+00  0.000000e+00  0.000000   \n",
       "4      0.000000e+00  0.000000  0.000000e+00  0.000000e+00  0.000000   \n",
       "5      2.111834e+00 -0.657020  4.971688e-01 -2.298225e-01 -0.210855   \n",
       "6     -3.683999e-07 -0.000202 -1.316757e-04 -2.519637e-03 -0.001110   \n",
       "...             ...       ...           ...           ...       ...   \n",
       "2156  -8.155174e-04  0.000345 -9.617542e-04 -6.059177e-03 -0.000084   \n",
       "2157  -7.341154e-07 -0.000003 -8.714626e-07  4.886900e-07  0.000001   \n",
       "2163   4.915722e-07 -0.059973 -1.923618e-02 -2.284416e-03 -0.003865   \n",
       "2169   7.255349e-08 -0.002513 -5.952695e-05 -2.567012e-06  0.000001   \n",
       "2173  -3.914070e-04 -0.010506 -6.675456e-03 -3.362144e-03 -0.000234   \n",
       "\n",
       "                 12            13  \n",
       "index                              \n",
       "1     -7.495101e-01 -6.238662e-01  \n",
       "2      0.000000e+00  0.000000e+00  \n",
       "4      0.000000e+00  0.000000e+00  \n",
       "5     -1.385206e-01 -4.412683e-01  \n",
       "6     -2.260507e-05 -1.140655e-05  \n",
       "...             ...           ...  \n",
       "2156  -1.286416e-04 -8.020559e-04  \n",
       "2157   1.449317e-07 -3.741966e-07  \n",
       "2163  -9.773096e-05 -7.684161e-05  \n",
       "2169   2.084624e-07  3.008105e-07  \n",
       "2173  -4.633348e-04 -6.685686e-05  \n",
       "\n",
       "[537 rows x 14 columns]"
      ]
     },
     "execution_count": 111,
     "metadata": {},
     "output_type": "execute_result"
    }
   ],
   "source": [
    "# # read feature importance\n",
    "# fea_imp = pd.read_csv('logistic_reg_feature_importance.csv')\n",
    "# fea_imp = fea_imp.drop('index.1', axis=1)\n",
    "# fea_imp.set_index('index')"
   ]
  },
  {
   "cell_type": "code",
   "execution_count": null,
   "metadata": {},
   "outputs": [],
   "source": [
    "# # write an array to score important features for each \n",
    "# fea_num = 14"
   ]
  },
  {
   "cell_type": "code",
   "execution_count": null,
   "metadata": {},
   "outputs": [],
   "source": []
  },
  {
   "cell_type": "code",
   "execution_count": 52,
   "metadata": {},
   "outputs": [],
   "source": [
    "# # X_train with features that have negative importance removed\n",
    "# X_train_pos_imp = X_train[imp_no_neg_ind]\n",
    "# X_val_pos_imp = X_val[imp_no_neg_ind]"
   ]
  },
  {
   "cell_type": "code",
   "execution_count": 55,
   "metadata": {},
   "outputs": [
    {
     "data": {
      "text/plain": [
       "array([ 9,  1,  0,  0,  1,  1,  5,  2,  0,  0,  0,  0,  0,  1,  1,  0,  4,\n",
       "        1,  1,  6,  5,  0,  2,  0,  0,  0,  3,  1,  6,  1,  0,  1,  0,  4,\n",
       "        0,  2,  4,  1,  1,  1,  0,  0,  6,  3,  1,  0,  0,  0,  0,  5,  0,\n",
       "        3,  1,  2,  0,  3,  0,  3,  1,  3,  0,  3,  8,  0,  0,  0,  0,  0,\n",
       "        1,  3,  0,  4,  0,  0,  0,  1,  3,  9,  0,  1,  1,  2,  1,  1,  0,\n",
       "        1,  3,  1,  0,  1,  2,  0,  0,  0,  0,  0,  0,  7,  4,  7,  3,  0,\n",
       "        1,  0,  0,  0,  1,  2,  5,  8,  8,  1,  1,  0,  5,  0,  0,  1,  0,\n",
       "        0,  3,  0,  1,  2,  0,  6,  0,  0,  7,  0,  1,  1,  0,  2,  3,  4,\n",
       "        2,  0,  6,  0,  0,  0,  1,  0,  0,  1,  2,  1,  2,  0,  3,  0,  0,\n",
       "        1,  0,  1,  0,  1,  3,  0,  4,  0,  1,  0,  5,  0,  0,  0,  0,  0,\n",
       "        0,  0,  1,  1,  0,  3,  0,  0,  1,  0,  0,  4,  0,  1,  8,  0,  5,\n",
       "        1,  0,  0,  0,  0,  0,  8,  0,  7,  1,  1,  1,  1,  0,  2,  8,  0,\n",
       "        2,  0,  1,  6,  0,  6,  1,  1,  8,  0,  3,  0,  0,  1,  5,  0,  1,\n",
       "        6,  0,  0, 11,  1,  0,  1,  0,  0,  0,  0,  1,  0,  3,  1,  4,  0,\n",
       "        1,  0,  0,  2,  3,  0,  0,  1,  1,  3,  0,  1,  0,  1,  9,  1,  4,\n",
       "        0,  0,  0,  0])"
      ]
     },
     "execution_count": 55,
     "metadata": {},
     "output_type": "execute_result"
    }
   ],
   "source": [
    "# make predictions\n",
    "# y_pred_val = best_ovr_2.predict(X_val_pos_imp)\n",
    "# y_pred_val"
   ]
  },
  {
   "cell_type": "code",
   "execution_count": 56,
   "metadata": {},
   "outputs": [
    {
     "data": {
      "text/plain": [
       "0.694980694980695"
      ]
     },
     "execution_count": 56,
     "metadata": {},
     "output_type": "execute_result"
    }
   ],
   "source": [
    "# accuracy score\n",
    "#accuracy_score(y_val, y_pred_val)"
   ]
  },
  {
   "cell_type": "markdown",
   "metadata": {},
   "source": [
    "# one vs one(not good)"
   ]
  },
  {
   "cell_type": "code",
   "execution_count": null,
   "metadata": {},
   "outputs": [],
   "source": [
    "# # define model\n",
    "# ovo = svm.SVC(decision_function_shape='ovo')\n",
    "# # fit model\n",
    "# ovo.fit(X_train, y_train)"
   ]
  },
  {
   "cell_type": "code",
   "execution_count": null,
   "metadata": {},
   "outputs": [],
   "source": [
    "# # make predictions\n",
    "# y_pred_val = ovo.predict(X_val)\n",
    "# y_pred_val"
   ]
  },
  {
   "cell_type": "code",
   "execution_count": null,
   "metadata": {},
   "outputs": [],
   "source": [
    "# # accuracy score\n",
    "# accuracy_score(y_val, y_pred_val)"
   ]
  },
  {
   "cell_type": "markdown",
   "metadata": {},
   "source": [
    "## section 3: save the submission file"
   ]
  },
  {
   "cell_type": "code",
   "execution_count": 12,
   "metadata": {},
   "outputs": [],
   "source": [
    "# creating the result vector\n",
    "y_pred_test = best_ovr.predict(test).astype(int)"
   ]
  },
  {
   "cell_type": "code",
   "execution_count": 13,
   "metadata": {},
   "outputs": [
    {
     "data": {
      "text/plain": [
       "array([ 1,  0,  0,  3,  5,  1,  0,  0,  5,  2,  4,  1,  3,  1,  0,  0,  0,\n",
       "        5,  0,  0,  0,  3,  1,  0,  7,  0,  1,  0,  1,  0,  0,  0,  0,  0,\n",
       "        0,  1,  2,  1, 10,  1,  0,  0,  0,  0,  0,  1,  1,  7,  0,  0,  6,\n",
       "        0,  5,  0,  5,  0,  1,  4,  1,  0,  1,  0,  0,  3,  1,  0,  4,  5,\n",
       "        0,  1,  0,  5,  0,  1,  0,  3,  1,  1,  0,  0,  3,  0,  1,  0,  0,\n",
       "        0,  2,  0,  3,  2,  0,  0,  5,  0,  0,  3,  3,  3,  3,  1,  0,  0,\n",
       "        1,  0,  3,  4,  4,  0,  1,  1,  6,  0,  3,  4,  0,  0,  6,  0,  0,\n",
       "        3,  0,  0,  1,  0,  0,  0,  0,  2,  0,  1,  0,  1,  0,  5,  4,  3,\n",
       "        1,  2,  1,  1,  0,  8,  5,  0,  2,  8,  5,  3,  6,  3,  1,  1, 14,\n",
       "        2,  0,  1,  1,  0,  0,  0,  0,  2,  0,  1,  0,  0,  0,  7,  0,  0,\n",
       "        3,  0,  5,  3,  6,  0,  1,  3,  0,  6,  0,  7,  0,  1,  0,  3,  0,\n",
       "        1,  0,  6,  0,  1,  0,  1,  4,  3,  1,  0,  7,  2,  2,  0,  2,  0,\n",
       "        2,  0,  3,  1,  4,  0,  0,  0,  2,  0,  8,  0,  5,  0,  0,  0,  1,\n",
       "        7,  1,  1,  8,  2,  8,  0,  3,  0,  0,  5,  1,  0,  0,  0,  0,  0,\n",
       "        5,  6,  1,  2,  2,  0,  0,  0,  1,  1,  0,  5,  0,  0,  0,  1,  3,\n",
       "        4,  0,  2,  1,  1,  0,  0,  0,  0,  2,  8,  1,  0,  0,  0,  1,  0,\n",
       "        1,  1,  0,  0,  0,  3,  4,  0,  0,  0,  0,  0,  0,  0,  0,  1,  0,\n",
       "        0,  2,  1,  1,  1,  1,  0,  0,  1,  6,  1,  1,  3,  5,  0,  1,  1,\n",
       "        8,  5,  1,  8,  0,  0,  1,  0,  1,  8,  2,  0,  1,  0,  1,  0,  0,\n",
       "        5,  1,  1,  0,  0,  0,  1,  1,  0,  6,  1,  0,  0,  0,  1,  0,  1,\n",
       "        0,  0,  0,  0,  0,  0,  1,  0, 12,  1,  1,  0,  0,  0,  1,  0,  2,\n",
       "        0,  6,  1,  3,  3,  0,  1,  1,  0,  8,  0,  0,  1,  0,  1,  1,  0,\n",
       "        0,  0,  3,  1,  1,  0,  0])"
      ]
     },
     "execution_count": 13,
     "metadata": {},
     "output_type": "execute_result"
    }
   ],
   "source": [
    "y_pred_test"
   ]
  },
  {
   "cell_type": "code",
   "execution_count": 14,
   "metadata": {},
   "outputs": [],
   "source": [
    "# create result\n",
    "res = {'key':protein_id['0'], 'label':y_pred_test}\n",
    "res = pd.DataFrame(res)\n",
    "# set id to be index\n",
    "res = res.set_index('key')\n",
    "# sort by index\n",
    "res = res.sort_index()"
   ]
  },
  {
   "cell_type": "code",
   "execution_count": 15,
   "metadata": {},
   "outputs": [
    {
     "data": {
      "text/html": [
       "<div>\n",
       "<style scoped>\n",
       "    .dataframe tbody tr th:only-of-type {\n",
       "        vertical-align: middle;\n",
       "    }\n",
       "\n",
       "    .dataframe tbody tr th {\n",
       "        vertical-align: top;\n",
       "    }\n",
       "\n",
       "    .dataframe thead th {\n",
       "        text-align: right;\n",
       "    }\n",
       "</style>\n",
       "<table border=\"1\" class=\"dataframe\">\n",
       "  <thead>\n",
       "    <tr style=\"text-align: right;\">\n",
       "      <th></th>\n",
       "      <th>label</th>\n",
       "    </tr>\n",
       "    <tr>\n",
       "      <th>key</th>\n",
       "      <th></th>\n",
       "    </tr>\n",
       "  </thead>\n",
       "  <tbody>\n",
       "    <tr>\n",
       "      <th>P234062</th>\n",
       "      <td>2</td>\n",
       "    </tr>\n",
       "    <tr>\n",
       "      <th>P234081</th>\n",
       "      <td>0</td>\n",
       "    </tr>\n",
       "    <tr>\n",
       "      <th>P234086</th>\n",
       "      <td>2</td>\n",
       "    </tr>\n",
       "    <tr>\n",
       "      <th>P234087</th>\n",
       "      <td>0</td>\n",
       "    </tr>\n",
       "    <tr>\n",
       "      <th>P234094</th>\n",
       "      <td>0</td>\n",
       "    </tr>\n",
       "    <tr>\n",
       "      <th>...</th>\n",
       "      <td>...</td>\n",
       "    </tr>\n",
       "    <tr>\n",
       "      <th>P240380</th>\n",
       "      <td>0</td>\n",
       "    </tr>\n",
       "    <tr>\n",
       "      <th>P240407</th>\n",
       "      <td>2</td>\n",
       "    </tr>\n",
       "    <tr>\n",
       "      <th>P240440</th>\n",
       "      <td>1</td>\n",
       "    </tr>\n",
       "    <tr>\n",
       "      <th>P240462</th>\n",
       "      <td>2</td>\n",
       "    </tr>\n",
       "    <tr>\n",
       "      <th>P240492</th>\n",
       "      <td>2</td>\n",
       "    </tr>\n",
       "  </tbody>\n",
       "</table>\n",
       "<p>381 rows × 1 columns</p>\n",
       "</div>"
      ],
      "text/plain": [
       "         label\n",
       "key           \n",
       "P234062      2\n",
       "P234081      0\n",
       "P234086      2\n",
       "P234087      0\n",
       "P234094      0\n",
       "...        ...\n",
       "P240380      0\n",
       "P240407      2\n",
       "P240440      1\n",
       "P240462      2\n",
       "P240492      2\n",
       "\n",
       "[381 rows x 1 columns]"
      ]
     },
     "execution_count": 15,
     "metadata": {},
     "output_type": "execute_result"
    }
   ],
   "source": [
    "res"
   ]
  },
  {
   "cell_type": "code",
   "execution_count": 16,
   "metadata": {},
   "outputs": [],
   "source": [
    "res.to_csv('../result/submission_logistic.csv')"
   ]
  },
  {
   "cell_type": "code",
   "execution_count": null,
   "metadata": {},
   "outputs": [],
   "source": []
  }
 ],
 "metadata": {
  "kernelspec": {
   "display_name": "Python 3",
   "language": "python",
   "name": "python3"
  },
  "language_info": {
   "codemirror_mode": {
    "name": "ipython",
    "version": 3
   },
   "file_extension": ".py",
   "mimetype": "text/x-python",
   "name": "python",
   "nbconvert_exporter": "python",
   "pygments_lexer": "ipython3",
   "version": "3.8.5"
  }
 },
 "nbformat": 4,
 "nbformat_minor": 4
}
