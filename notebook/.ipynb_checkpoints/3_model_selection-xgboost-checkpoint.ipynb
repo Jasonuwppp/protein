{
 "cells": [
  {
   "cell_type": "markdown",
   "metadata": {},
   "source": [
    "# Model Selection"
   ]
  },
  {
   "cell_type": "markdown",
   "metadata": {},
   "source": [
    "Our project is a muticlass classification problem.So, we need to find some classifiers"
   ]
  },
  {
   "cell_type": "code",
   "execution_count": 1,
   "metadata": {},
   "outputs": [],
   "source": [
    "import numpy as np\n",
    "import pandas as pd\n",
    "import xgboost as xgb\n",
    "from sklearn.metrics import accuracy_score\n",
    "from sklearn.model_selection import train_test_split"
   ]
  },
  {
   "cell_type": "code",
   "execution_count": 2,
   "metadata": {},
   "outputs": [],
   "source": [
    "# load data\n",
    "train = pd.read_pickle('../data/train.pickle')\n",
    "test = pd.read_pickle('../data/test.pickle')\n",
    "train_encoded = pd.read_csv('../data/train_after_encode.csv')\n",
    "X_test = pd.read_csv('../data/test_after_encode.csv')"
   ]
  },
  {
   "cell_type": "code",
   "execution_count": 3,
   "metadata": {},
   "outputs": [],
   "source": [
    "# define y\n",
    "y_encoded = train['y']"
   ]
  },
  {
   "cell_type": "code",
   "execution_count": 4,
   "metadata": {},
   "outputs": [],
   "source": [
    "# create validation sets\n",
    "X_train, X_val, y_train, y_val = train_test_split(train_encoded, y_encoded, test_size = 0.3)"
   ]
  },
  {
   "cell_type": "markdown",
   "metadata": {},
   "source": [
    "## model 1: xgboost"
   ]
  },
  {
   "cell_type": "markdown",
   "metadata": {},
   "source": [
    "Generally, xgboost has an excellent performance in prediction. I will try this method first"
   ]
  },
  {
   "cell_type": "code",
   "execution_count": 5,
   "metadata": {},
   "outputs": [
    {
     "name": "stdout",
     "output_type": "stream",
     "text": [
      "[21:39:36] WARNING: /Users/travis/build/dmlc/xgboost/src/learner.cc:1061: Starting in XGBoost 1.3.0, the default evaluation metric used with the objective 'multi:softprob' was changed from 'merror' to 'mlogloss'. Explicitly set eval_metric if you'd like to restore the old behavior.\n"
     ]
    },
    {
     "data": {
      "text/plain": [
       "XGBClassifier(base_score=0.5, booster='gbtree', colsample_bylevel=1,\n",
       "              colsample_bynode=1, colsample_bytree=1, gamma=0, gpu_id=-1,\n",
       "              importance_type='gain', interaction_constraints='',\n",
       "              learning_rate=0.01, max_delta_step=0, max_depth=10000,\n",
       "              min_child_weight=1, missing=nan, monotone_constraints='()',\n",
       "              n_estimators=1000, n_jobs=4, num_parallel_tree=1,\n",
       "              objective='multi:softprob', random_state=0, reg_alpha=0,\n",
       "              reg_lambda=1, scale_pos_weight=None, subsample=1,\n",
       "              tree_method='exact', use_label_encoder=False,\n",
       "              validate_parameters=1, verbosity=None)"
      ]
     },
     "execution_count": 5,
     "metadata": {},
     "output_type": "execute_result"
    }
   ],
   "source": [
    "# create the classifier\n",
    "clf = xgb.XGBClassifier(objective='reg:linear', learning_rate = 0.01,\n",
    "                           max_depth = 10000, n_estimators = 1000, use_label_encoder=False)\n",
    "# fit the model\n",
    "clf.fit(X_train,y_train)"
   ]
  },
  {
   "cell_type": "code",
   "execution_count": 6,
   "metadata": {},
   "outputs": [],
   "source": [
    "# predict the result for validation\n",
    "y_pred_val = clf.predict(X_val)"
   ]
  },
  {
   "cell_type": "code",
   "execution_count": 7,
   "metadata": {},
   "outputs": [
    {
     "data": {
      "text/plain": [
       "array([0, 0, 0, 0, 0, 2, 0, 0, 8, 0, 5, 1, 1, 1, 0, 0, 0, 1, 8, 0, 0, 1,\n",
       "       0, 5, 6, 1, 4, 0, 0, 0, 1, 4, 0, 6, 0, 0, 0, 0, 0, 2, 1, 1, 3, 1,\n",
       "       0, 0, 0, 0, 0, 3, 0, 0, 4, 0, 1, 0, 0, 0, 0, 7, 0, 0, 1, 5, 1, 3,\n",
       "       0, 0, 0, 2, 1, 0, 8, 5, 0, 1, 0, 0, 0, 9, 0, 6, 6, 0, 1, 2, 0, 1,\n",
       "       1, 0, 4, 0, 0, 6, 1, 1, 2, 0, 3, 0, 3, 0, 2, 0, 2, 1, 0, 0, 1, 0,\n",
       "       5, 6, 4, 0, 1, 0, 0, 5, 1, 1, 0, 9, 0, 0, 0, 4, 4, 1, 5, 0, 0, 6,\n",
       "       4, 0, 7, 1, 1, 1, 1, 0, 0, 1, 1, 5, 0, 0, 4, 0, 0, 0, 0, 0, 0, 1,\n",
       "       0, 1, 0, 0, 7, 0, 1, 7, 0, 1, 2, 0, 0, 0, 1, 7, 0, 1, 6, 2, 0, 0,\n",
       "       2, 7, 2, 1, 1, 4, 0, 1, 1, 0, 0, 0, 0, 1, 4, 3, 1, 1, 3, 5, 0, 0,\n",
       "       0, 0, 2, 8, 0, 0, 0, 0, 0, 0, 0, 0, 0, 0, 0, 0, 0, 5, 6, 1, 2, 0,\n",
       "       0, 0, 0, 8, 0, 0, 3, 6, 0, 0, 8, 5, 4, 0, 0, 0, 4, 0, 0, 0, 1, 0,\n",
       "       3, 2, 0, 0, 2, 6, 0, 4, 1, 0, 0, 2, 0, 0, 0, 1, 0])"
      ]
     },
     "execution_count": 7,
     "metadata": {},
     "output_type": "execute_result"
    }
   ],
   "source": [
    "y_pred_val"
   ]
  },
  {
   "cell_type": "code",
   "execution_count": 8,
   "metadata": {},
   "outputs": [
    {
     "data": {
      "text/plain": [
       "0.694980694980695"
      ]
     },
     "execution_count": 8,
     "metadata": {},
     "output_type": "execute_result"
    }
   ],
   "source": [
    "# get the accuracy score\n",
    "accuracy_score(y_val, y_pred_val)"
   ]
  },
  {
   "cell_type": "markdown",
   "metadata": {},
   "source": [
    "The following is related to submission"
   ]
  },
  {
   "cell_type": "code",
   "execution_count": 9,
   "metadata": {},
   "outputs": [],
   "source": [
    "# creating the result vector\n",
    "y_pred_test = clf.predict(X_test)"
   ]
  },
  {
   "cell_type": "code",
   "execution_count": 10,
   "metadata": {},
   "outputs": [],
   "source": [
    "# create result\n",
    "protein_id = test[0]\n",
    "res = {'key':protein_id, 'label':y_pred_test}\n",
    "res = pd.DataFrame(res)\n",
    "# set id to be index\n",
    "res = res.set_index('key')\n",
    "# sort by index\n",
    "res = res.sort_index()"
   ]
  },
  {
   "cell_type": "code",
   "execution_count": 11,
   "metadata": {},
   "outputs": [],
   "source": [
    "res.to_csv('../result/submission.csv')"
   ]
  },
  {
   "cell_type": "code",
   "execution_count": null,
   "metadata": {},
   "outputs": [],
   "source": []
  }
 ],
 "metadata": {
  "kernelspec": {
   "display_name": "Python 3",
   "language": "python",
   "name": "python3"
  },
  "language_info": {
   "codemirror_mode": {
    "name": "ipython",
    "version": 3
   },
   "file_extension": ".py",
   "mimetype": "text/x-python",
   "name": "python",
   "nbconvert_exporter": "python",
   "pygments_lexer": "ipython3",
   "version": "3.8.5"
  }
 },
 "nbformat": 4,
 "nbformat_minor": 4
}
