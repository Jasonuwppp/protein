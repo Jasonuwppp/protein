{
 "cells": [
  {
   "cell_type": "code",
   "execution_count": 14,
   "metadata": {},
   "outputs": [],
   "source": [
    "from numpy import mean\n",
    "from numpy import std\n",
    "import numpy as np\n",
    "import pandas as pd\n",
    "from sklearn.ensemble import BaggingClassifier\n",
    "from sklearn.model_selection import cross_val_score\n",
    "from sklearn.model_selection import RepeatedStratifiedKFold\n",
    "from sklearn.linear_model import LogisticRegression"
   ]
  },
  {
   "cell_type": "code",
   "execution_count": 15,
   "metadata": {},
   "outputs": [],
   "source": [
    "# load data\n",
    "train = pd.read_csv('../data/train_after_encode.csv')\n",
    "test = pd.read_csv('../data/test_after_encode.csv')\n",
    "protein_id = pd.read_csv('../data/protein_id.csv')\n",
    "# define X,y\n",
    "X_train = train.drop('y', axis=1)\n",
    "y_train = train['y']\n",
    "# create validation sets\n",
    "#X_train, X_val, y_train, y_val = train_test_split(train_X, train_y, test_size = 0.3)"
   ]
  },
  {
   "cell_type": "code",
   "execution_count": 16,
   "metadata": {},
   "outputs": [],
   "source": [
    "X_train = X_train.astype(np.float64)\n",
    "y_train = y_train.astype(np.float64)"
   ]
  },
  {
   "cell_type": "code",
   "execution_count": 17,
   "metadata": {},
   "outputs": [],
   "source": [
    "# logistic regression\n",
    "lr = pd.read_pickle('../best models/LR.pickle')\n",
    "rf = pd.read_pickle('../best models/random_forest.pickle')"
   ]
  },
  {
   "cell_type": "code",
   "execution_count": 19,
   "metadata": {},
   "outputs": [],
   "source": [
    "# define the model\n",
    "#model = BaggingClassifier(base_estimator=lr,verbose=1, n_jobs=-1)\n",
    "model = BaggingClassifier(base_estimator=rf, verbose=1, n_jobs=-1)"
   ]
  },
  {
   "cell_type": "code",
   "execution_count": 20,
   "metadata": {},
   "outputs": [],
   "source": [
    "# save bagging model\n",
    "#pd.to_pickle(model, '../best models/LR_Bagging.pickle')\n",
    "pd.to_pickle(model, '../best models/RF_Bagging.pickle')"
   ]
  },
  {
   "cell_type": "code",
   "execution_count": 6,
   "metadata": {},
   "outputs": [
    {
     "name": "stderr",
     "output_type": "stream",
     "text": [
      "/Users/jasonyin/opt/anaconda3/lib/python3.8/site-packages/sklearn/model_selection/_split.py:670: UserWarning: The least populated class in y has only 1 members, which is less than n_splits=10.\n",
      "  warnings.warn((\"The least populated class in y has only %d\"\n",
      "/Users/jasonyin/opt/anaconda3/lib/python3.8/site-packages/sklearn/model_selection/_split.py:670: UserWarning: The least populated class in y has only 1 members, which is less than n_splits=10.\n",
      "  warnings.warn((\"The least populated class in y has only %d\"\n",
      "/Users/jasonyin/opt/anaconda3/lib/python3.8/site-packages/sklearn/model_selection/_split.py:670: UserWarning: The least populated class in y has only 1 members, which is less than n_splits=10.\n",
      "  warnings.warn((\"The least populated class in y has only %d\"\n",
      "/Users/jasonyin/opt/anaconda3/lib/python3.8/site-packages/sklearn/model_selection/_split.py:670: UserWarning: The least populated class in y has only 1 members, which is less than n_splits=10.\n",
      "  warnings.warn((\"The least populated class in y has only %d\"\n",
      "/Users/jasonyin/opt/anaconda3/lib/python3.8/site-packages/sklearn/model_selection/_split.py:670: UserWarning: The least populated class in y has only 1 members, which is less than n_splits=10.\n",
      "  warnings.warn((\"The least populated class in y has only %d\"\n",
      "/Users/jasonyin/opt/anaconda3/lib/python3.8/site-packages/sklearn/model_selection/_split.py:670: UserWarning: The least populated class in y has only 1 members, which is less than n_splits=10.\n",
      "  warnings.warn((\"The least populated class in y has only %d\"\n",
      "/Users/jasonyin/opt/anaconda3/lib/python3.8/site-packages/sklearn/model_selection/_split.py:670: UserWarning: The least populated class in y has only 1 members, which is less than n_splits=10.\n",
      "  warnings.warn((\"The least populated class in y has only %d\"\n",
      "/Users/jasonyin/opt/anaconda3/lib/python3.8/site-packages/sklearn/model_selection/_split.py:670: UserWarning: The least populated class in y has only 1 members, which is less than n_splits=10.\n",
      "  warnings.warn((\"The least populated class in y has only %d\"\n",
      "/Users/jasonyin/opt/anaconda3/lib/python3.8/site-packages/sklearn/model_selection/_split.py:670: UserWarning: The least populated class in y has only 1 members, which is less than n_splits=10.\n",
      "  warnings.warn((\"The least populated class in y has only %d\"\n",
      "/Users/jasonyin/opt/anaconda3/lib/python3.8/site-packages/sklearn/model_selection/_split.py:670: UserWarning: The least populated class in y has only 1 members, which is less than n_splits=10.\n",
      "  warnings.warn((\"The least populated class in y has only %d\"\n"
     ]
    },
    {
     "name": "stdout",
     "output_type": "stream",
     "text": [
      "Accuracy: 0.693 (0.042)\n"
     ]
    }
   ],
   "source": [
    "# evaluate the model\n",
    "cv = RepeatedStratifiedKFold(n_splits=10, n_repeats=10, random_state=1)\n",
    "n_scores = cross_val_score(model, X_train, y_train, scoring='accuracy', cv=cv, n_jobs=-1, error_score='raise')\n",
    "# report performance\n",
    "print('Accuracy: %.3f (%.3f)' % (mean(n_scores), std(n_scores)))"
   ]
  },
  {
   "cell_type": "code",
   "execution_count": 7,
   "metadata": {},
   "outputs": [
    {
     "name": "stderr",
     "output_type": "stream",
     "text": [
      "[Parallel(n_jobs=4)]: Using backend LokyBackend with 4 concurrent workers.\n",
      "[Parallel(n_jobs=4)]: Done   2 out of   4 | elapsed:    3.6s remaining:    3.6s\n",
      "[Parallel(n_jobs=4)]: Done   4 out of   4 | elapsed:    4.7s finished\n"
     ]
    },
    {
     "data": {
      "text/plain": [
       "BaggingClassifier(base_estimator=LogisticRegression(C=10, l1_ratio=0,\n",
       "                                                    multi_class='ovr'),\n",
       "                  n_jobs=-1, verbose=1)"
      ]
     },
     "execution_count": 7,
     "metadata": {},
     "output_type": "execute_result"
    }
   ],
   "source": [
    "# model fit\n",
    "model.fit(X_train,y_train)"
   ]
  },
  {
   "cell_type": "markdown",
   "metadata": {},
   "source": [
    "The following is related to submission"
   ]
  },
  {
   "cell_type": "code",
   "execution_count": 8,
   "metadata": {},
   "outputs": [
    {
     "name": "stderr",
     "output_type": "stream",
     "text": [
      "[Parallel(n_jobs=4)]: Using backend LokyBackend with 4 concurrent workers.\n",
      "[Parallel(n_jobs=4)]: Done   2 out of   4 | elapsed:    0.0s remaining:    0.0s\n",
      "[Parallel(n_jobs=4)]: Done   4 out of   4 | elapsed:    0.0s finished\n"
     ]
    }
   ],
   "source": [
    "# creating the result vector\n",
    "y_pred_test = model.predict(test).astype(int)"
   ]
  },
  {
   "cell_type": "code",
   "execution_count": 9,
   "metadata": {},
   "outputs": [
    {
     "data": {
      "text/plain": [
       "array([ 1,  0,  0,  3,  5,  1,  0,  0,  5,  2,  4,  1,  0,  1,  0,  0,  0,\n",
       "        1,  0,  0,  0,  3,  0,  0,  7,  0,  1,  0,  1,  0,  0,  0,  0,  0,\n",
       "        0,  1,  2,  1, 10,  4,  0,  0,  0,  0,  0,  1,  1,  7,  0,  0,  6,\n",
       "        0,  5,  0,  5,  0,  1,  4,  1,  0,  1,  0,  0,  3,  1,  0,  4,  5,\n",
       "        0,  1,  0,  5,  0,  1,  0,  3,  1,  1,  0,  0,  3,  0,  1,  0,  0,\n",
       "        0,  2,  0,  3,  2,  0,  0,  5,  0,  0,  3,  3,  3,  3,  1,  0,  0,\n",
       "        1,  0,  3,  4,  4,  0,  1,  1,  6,  0,  3,  4,  0,  0,  2,  0,  0,\n",
       "        3,  0,  0,  1,  0,  0,  0,  0,  2,  0,  1,  0,  1,  0,  5,  4,  3,\n",
       "        1,  2,  1,  1,  0,  8,  5,  0,  2,  8,  5,  3,  2,  3,  1,  1,  1,\n",
       "        2,  0,  1,  1,  0,  0,  0,  0,  2,  0,  1,  0,  0,  0,  7,  0,  0,\n",
       "        3,  0,  5,  3,  6,  0,  1,  3,  0,  2,  3,  6,  0,  1,  0,  0,  0,\n",
       "        1,  0,  1,  0,  1,  0,  1,  4,  3,  1,  0,  7,  2,  2,  0,  2,  0,\n",
       "        2,  0,  3,  1,  4,  0,  0,  0,  2,  0,  6,  0,  5,  0,  0,  0,  1,\n",
       "        7,  1,  1,  8,  7,  8,  0,  3,  0,  0,  5,  3,  0,  0,  0,  0,  0,\n",
       "        5,  6,  1,  2,  2,  0,  0,  0,  1,  1,  0,  5,  0,  1,  0,  1,  3,\n",
       "        4,  0,  2,  0,  1,  0,  0,  0,  0,  2,  8,  1,  0,  0,  0,  1,  0,\n",
       "        1,  1,  0,  0,  0,  3,  4,  0,  0,  0,  0,  0,  0,  0,  0,  1,  0,\n",
       "        0,  2,  1,  1,  1,  1,  0,  0,  1,  6,  1,  1,  3,  5,  0,  1,  1,\n",
       "        8,  1,  1,  8,  0,  0,  0,  0,  1,  8,  2,  0,  1,  0,  1,  0,  0,\n",
       "        5,  1,  1,  0,  0,  0,  1,  1,  0,  8,  1,  0,  0,  0,  1,  0,  1,\n",
       "        0,  0,  4,  0,  0,  0,  1,  0, 12,  1,  1,  0,  0,  0,  7,  0,  2,\n",
       "        0,  6,  0,  3,  3,  0,  1,  1,  0,  8,  0,  0,  2,  0,  1,  1,  0,\n",
       "        0,  0,  3,  1,  1,  0,  0])"
      ]
     },
     "execution_count": 9,
     "metadata": {},
     "output_type": "execute_result"
    }
   ],
   "source": [
    "y_pred_test"
   ]
  },
  {
   "cell_type": "code",
   "execution_count": 10,
   "metadata": {},
   "outputs": [],
   "source": [
    "# create result\n",
    "res = {'key':protein_id['0'], 'label':y_pred_test}\n",
    "res = pd.DataFrame(res)\n",
    "# set id to be index\n",
    "res = res.set_index('key')\n",
    "# sort by index\n",
    "res = res.sort_index()"
   ]
  },
  {
   "cell_type": "code",
   "execution_count": 11,
   "metadata": {},
   "outputs": [
    {
     "data": {
      "text/html": [
       "<div>\n",
       "<style scoped>\n",
       "    .dataframe tbody tr th:only-of-type {\n",
       "        vertical-align: middle;\n",
       "    }\n",
       "\n",
       "    .dataframe tbody tr th {\n",
       "        vertical-align: top;\n",
       "    }\n",
       "\n",
       "    .dataframe thead th {\n",
       "        text-align: right;\n",
       "    }\n",
       "</style>\n",
       "<table border=\"1\" class=\"dataframe\">\n",
       "  <thead>\n",
       "    <tr style=\"text-align: right;\">\n",
       "      <th></th>\n",
       "      <th>label</th>\n",
       "    </tr>\n",
       "    <tr>\n",
       "      <th>key</th>\n",
       "      <th></th>\n",
       "    </tr>\n",
       "  </thead>\n",
       "  <tbody>\n",
       "    <tr>\n",
       "      <th>P234062</th>\n",
       "      <td>2</td>\n",
       "    </tr>\n",
       "    <tr>\n",
       "      <th>P234081</th>\n",
       "      <td>0</td>\n",
       "    </tr>\n",
       "    <tr>\n",
       "      <th>P234086</th>\n",
       "      <td>2</td>\n",
       "    </tr>\n",
       "    <tr>\n",
       "      <th>P234087</th>\n",
       "      <td>0</td>\n",
       "    </tr>\n",
       "    <tr>\n",
       "      <th>P234094</th>\n",
       "      <td>0</td>\n",
       "    </tr>\n",
       "    <tr>\n",
       "      <th>...</th>\n",
       "      <td>...</td>\n",
       "    </tr>\n",
       "    <tr>\n",
       "      <th>P240380</th>\n",
       "      <td>0</td>\n",
       "    </tr>\n",
       "    <tr>\n",
       "      <th>P240407</th>\n",
       "      <td>2</td>\n",
       "    </tr>\n",
       "    <tr>\n",
       "      <th>P240440</th>\n",
       "      <td>1</td>\n",
       "    </tr>\n",
       "    <tr>\n",
       "      <th>P240462</th>\n",
       "      <td>2</td>\n",
       "    </tr>\n",
       "    <tr>\n",
       "      <th>P240492</th>\n",
       "      <td>2</td>\n",
       "    </tr>\n",
       "  </tbody>\n",
       "</table>\n",
       "<p>381 rows × 1 columns</p>\n",
       "</div>"
      ],
      "text/plain": [
       "         label\n",
       "key           \n",
       "P234062      2\n",
       "P234081      0\n",
       "P234086      2\n",
       "P234087      0\n",
       "P234094      0\n",
       "...        ...\n",
       "P240380      0\n",
       "P240407      2\n",
       "P240440      1\n",
       "P240462      2\n",
       "P240492      2\n",
       "\n",
       "[381 rows x 1 columns]"
      ]
     },
     "execution_count": 11,
     "metadata": {},
     "output_type": "execute_result"
    }
   ],
   "source": [
    "res"
   ]
  },
  {
   "cell_type": "code",
   "execution_count": 12,
   "metadata": {},
   "outputs": [],
   "source": [
    "res.to_csv('../result/submission_bagging.csv')"
   ]
  },
  {
   "cell_type": "code",
   "execution_count": null,
   "metadata": {},
   "outputs": [],
   "source": []
  }
 ],
 "metadata": {
  "kernelspec": {
   "display_name": "Python 3",
   "language": "python",
   "name": "python3"
  },
  "language_info": {
   "codemirror_mode": {
    "name": "ipython",
    "version": 3
   },
   "file_extension": ".py",
   "mimetype": "text/x-python",
   "name": "python",
   "nbconvert_exporter": "python",
   "pygments_lexer": "ipython3",
   "version": "3.8.5"
  }
 },
 "nbformat": 4,
 "nbformat_minor": 4
}
